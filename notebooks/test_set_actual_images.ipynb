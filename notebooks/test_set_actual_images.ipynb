{
 "cells": [
  {
   "cell_type": "code",
   "execution_count": 1,
   "metadata": {},
   "outputs": [
    {
     "name": "stderr",
     "output_type": "stream",
     "text": [
      "Using Theano backend.\n"
     ]
    }
   ],
   "source": [
    "import sys\n",
    "sys.path.append('..')\n",
    "import time\n",
    "from astropy.table import Table\n",
    "import pyfits as fits\n",
    "import numpy as np\n",
    "import matplotlib.pyplot as plt\n",
    "from os.path import expanduser\n",
    "from deeplens.resnet_classifier import deeplens_classifier\n",
    "from deeplens.utils.blfchallenge import classify_ground_challenge \n",
    "\n",
    "from sklearn import metrics\n",
    "\n",
    "home = expanduser(\"~\")"
   ]
  },
  {
   "cell_type": "code",
   "execution_count": 2,
   "metadata": {},
   "outputs": [
    {
     "name": "stdout",
     "output_type": "stream",
     "text": [
      "(240, 3, 101, 101)\n",
      "(240, 1)\n",
      "Lens(1): 104\n",
      "Non-lens(0): 136\n"
     ]
    }
   ],
   "source": [
    "imgs = 240\n",
    "\n",
    "# Path to the downloaded files\n",
    "# download_path=home+'/Desktop/' # To be adjusted on your machine\n",
    "download_path='//Volumes/CJSTORFER/' # To be adjusted on your machine\n",
    "\n",
    "\n",
    "\n",
    "# Path to export the data\n",
    "export_path=home+'/Desktop/'   # To be adjusted on your machine\n",
    "\n",
    "\n",
    "#Loads x, y dataset that belong to the previously trained CNN\n",
    "\n",
    "d = Table.read(export_path+'catalogs_'+str(imgs)+'_RGB.hdf5', path='/ground')  \n",
    "\n",
    "x = np.asarray(d['image']).reshape((-1,3,101,101))\n",
    "print x.shape\n",
    "\n",
    "y = np.asarray(d['is_lens']).reshape((-1,1))\n",
    "print y.shape\n",
    "\n",
    "\n",
    "\n",
    "print 'Lens(1): '+ str(np.sum(y==1))\n",
    "print 'Non-lens(0): '+ str(np.sum(y==0))\n",
    "\n"
   ]
  },
  {
   "cell_type": "code",
   "execution_count": 3,
   "metadata": {},
   "outputs": [
    {
     "name": "stdout",
     "output_type": "stream",
     "text": [
      "loading from /Users/Chris/CMUDeepLens/Trained_Sets/500imgs_100epochs_RGB/deeplens_params_final.npy...\n",
      "Model loaded\n"
     ]
    }
   ],
   "source": [
    "model = deeplens_classifier()\n",
    "model.load('/Users/Chris/CMUDeepLens/Trained_Sets/500imgs_100epochs_RGB/deeplens_params_final.npy', x, y)"
   ]
  },
  {
   "cell_type": "code",
   "execution_count": 4,
   "metadata": {},
   "outputs": [
    {
     "name": "stdout",
     "output_type": "stream",
     "text": [
      "Done !\n"
     ]
    }
   ],
   "source": [
    "ims = np.zeros((61, 3, 101, 101))\n",
    "counter = 0\n",
    " \n",
    "files = 61\n",
    "\n",
    "# Loads the images\n",
    "for i in range (files):\n",
    "    ims[i] = fits.getdata('/Users/Chris/Desktop/Training_Set/Lenses/cutout_{}.fits'.format(i))\n",
    "\n",
    "# Concatenate images to catalog\n",
    "x_lens_32 = ims\n",
    "y_lens_32 = np.ones((61,1))\n",
    "\n",
    "print \"Done !\"\n"
   ]
  },
  {
   "cell_type": "code",
   "execution_count": 5,
   "metadata": {},
   "outputs": [],
   "source": [
    "files = 168\n",
    "ims_0 = np.zeros((files, 3, 101, 101))\n",
    "counter = 0\n",
    " \n",
    "\n",
    "for i in range (files):\n",
    "    ims_0[i] = fits.getdata('/Users/Chris/Desktop/Training_Set/Non-Lenses/cutout_000{:03d}.fits'.format(i))\n",
    "x_nonlens = ims_0\n",
    "y_nonlens = np.zeros((x_nonlens.shape[0],1))"
   ]
  },
  {
   "cell_type": "code",
   "execution_count": 6,
   "metadata": {},
   "outputs": [],
   "source": [
    "x_test = np.concatenate((x_lens_32,x_nonlens))\n",
    "# print x_test.shape\n",
    "y_test = np.concatenate((y_lens_32,y_nonlens))\n",
    "# print y_test.shape"
   ]
  },
  {
   "cell_type": "code",
   "execution_count": 7,
   "metadata": {},
   "outputs": [
    {
     "name": "stdout",
     "output_type": "stream",
     "text": [
      "max test: 108.672065735\n",
      "max: 100.0\n",
      "\n",
      "min test: -0.128732606769\n",
      "min: -1.05758395097e-10\n",
      "\n",
      "mean test: 0.0463501640854\n",
      "mean: 0.815810541453\n"
     ]
    }
   ],
   "source": [
    "print 'max test:',np.max(x_test)\n",
    "print 'max:',np.max(x)\n",
    "\n",
    "print '\\nmin test:',np.min(x_test)\n",
    "print 'min:',np.min(x)\n",
    "\n",
    "print '\\nmean test:',np.mean(x_test)\n",
    "print 'mean:',np.mean(x)"
   ]
  },
  {
   "cell_type": "markdown",
   "metadata": {},
   "source": [
    "# PREPROCESSING:"
   ]
  },
  {
   "cell_type": "code",
   "execution_count": 8,
   "metadata": {},
   "outputs": [],
   "source": [
    "vmin=-1e-9\n",
    "vmax=1e-9\n",
    "scale=100\n",
    "\n",
    "mask = np.where(x == 100)\n",
    "\n",
    "x[mask] = 0\n",
    "\n",
    "# Simple clipping and rescaling the images\n",
    "x = np.clip(x, vmin, vmax)/vmax * scale\n",
    "\n",
    "\n",
    "x[mask] = 0\n"
   ]
  },
  {
   "cell_type": "code",
   "execution_count": 9,
   "metadata": {},
   "outputs": [],
   "source": [
    "import copy\n",
    "x_test_trim = copy.copy(x_test)"
   ]
  },
  {
   "cell_type": "code",
   "execution_count": 10,
   "metadata": {},
   "outputs": [],
   "source": [
    "vmin_test = -1\n",
    "vmax_test = 1\n",
    "\n",
    "# mask_test = np.where(x_test>=100)\n",
    "\n",
    "# x_max = np.max(x_test)\n",
    "\n",
    "scale_test = 100/np.max(x_test)\n",
    "\n",
    "\n",
    "# x_test[mask_test] = 0\n",
    "\n",
    "x_test = ((np.clip(x_test, vmin_test, vmax_test))*scale_test)\n",
    "\n",
    "# x_test[mask_test] = 0\n"
   ]
  },
  {
   "cell_type": "code",
   "execution_count": 11,
   "metadata": {},
   "outputs": [
    {
     "name": "stdout",
     "output_type": "stream",
     "text": [
      "max test: 0.920199678949\n",
      "max: 100.0\n",
      "max test_trim: 100.0\n",
      "\n",
      "min test: -0.118459703419\n",
      "min: -10.5758395097\n",
      "min test_trim: -1.53193370754\n",
      "\n",
      "mean test: 0.0140837443314\n",
      "mean: 0.23012201072\n",
      "mean test_trim: 0.389774857561\n",
      "\n",
      "std test: 0.0852842946486\n",
      "std: 2.28338524525\n",
      "std test_trim:  4.43737141971\n"
     ]
    }
   ],
   "source": [
    "std_trim = np.std(x_test_trim)\n",
    "\n",
    "max_trim = np.max(x_test_trim)\n",
    "\n",
    "# idx = (x_test_trim<-std_trim*3)*(x_test_trim>std_trim*3)\n",
    "\n",
    "# x_test_trim[idx] = 1\n",
    "\n",
    "vmax_trim = std_trim*10\n",
    "vmin_trim = -std_trim*10\n",
    "\n",
    "\n",
    "scale_test_trim = 100/(vmax_trim)\n",
    "\n",
    "x_test_trim =(np.clip(x_test_trim, vmin_trim, vmax_trim))\n",
    "\n",
    "\n",
    "\n",
    "x_test_trim *= scale_test_trim\n",
    "# x_test_trim *= (np.std(x)/np.std(x_test_trim))\n",
    "\n",
    "print 'max test:',np.max(x_test)\n",
    "print 'max:',np.max(x)\n",
    "print 'max test_trim:',np.max(x_test_trim)\n",
    "\n",
    "print '\\nmin test:',np.min(x_test)\n",
    "print 'min:',np.min(x)\n",
    "print 'min test_trim:',np.min(x_test_trim)\n",
    "\n",
    "print '\\nmean test:',np.mean(x_test)\n",
    "print 'mean:',np.mean(x)\n",
    "print 'mean test_trim:',np.mean(x_test_trim)\n",
    "\n",
    "print '\\nstd test:',np.std(x_test)\n",
    "print 'std:',np.std(x)\n",
    "print 'std test_trim: ', np.std(x_test_trim)"
   ]
  },
  {
   "cell_type": "code",
   "execution_count": 12,
   "metadata": {},
   "outputs": [
    {
     "name": "stdout",
     "output_type": "stream",
     "text": [
      "(229, 3, 101, 101)\n",
      "(229, 3, 101, 101)\n"
     ]
    }
   ],
   "source": [
    "print x_test.shape\n",
    "print x_test_trim.shape"
   ]
  },
  {
   "cell_type": "code",
   "execution_count": 13,
   "metadata": {},
   "outputs": [],
   "source": [
    "# prediction = model.predict(x_test)\n",
    "# print 'number correct : ' + str(np.sum(prediction==y_test))"
   ]
  },
  {
   "cell_type": "code",
   "execution_count": 14,
   "metadata": {},
   "outputs": [],
   "source": [
    "tpr,fpr,th = model.eval_ROC(x_test,y_test)\n"
   ]
  },
  {
   "cell_type": "code",
   "execution_count": 15,
   "metadata": {},
   "outputs": [
    {
     "data": {
      "image/png": "[encoded data removed]",
      "text/plain": [
       "<Figure size 720x504 with 1 Axes>"
      ]
     },
     "metadata": {},
     "output_type": "display_data"
    }
   ],
   "source": [
    "roc_auc = metrics.auc(fpr, tpr)\n",
    "plt.figure(figsize= (10,7))\n",
    "plt.title('ROC on new test set', fontsize=20)\n",
    "plt.plot(fpr,tpr)\n",
    "plt.xlabel('FPR', fontsize=15)\n",
    "plt.ylabel('TPR', fontsize=15)\n",
    "plt.xlim(0,1)\n",
    "plt.ylim(0,1.)\n",
    "plt.plot([0, 1], [0, 1], linestyle='--')\n",
    "plt.xlim([-0.01, 1.0])\n",
    "plt.ylim([0.0, 1.01])\n",
    "plt.text(1, 0.2, 'AUC: ' + str(\"%.4f\" % roc_auc),\n",
    "        verticalalignment='bottom', horizontalalignment='right', fontsize=20)\n",
    "# plt.text(1, 0.1, 'Purity: ' + str(\"%.4f\" % purity),\n",
    "#         verticalalignment='bottom', horizontalalignment='right', fontsize=20)\n",
    "# plt.text(1, 0, 'Completeness: ' + str(\"%.4f\" % completeness),\n",
    "#         verticalalignment='bottom', horizontalalignment='right', fontsize=20)\n",
    "plt.grid(True)\n",
    "\n",
    "plt.show()"
   ]
  },
  {
   "cell_type": "code",
   "execution_count": 27,
   "metadata": {},
   "outputs": [
    {
     "name": "stdout",
     "output_type": "stream",
     "text": [
      "(240, 3, 101, 101)\n"
     ]
    }
   ],
   "source": [
    "print x_test.shape"
   ]
  },
  {
   "cell_type": "code",
   "execution_count": 17,
   "metadata": {},
   "outputs": [],
   "source": [
    "p, c = model.eval_purity_completeness(x_test,y_test)"
   ]
  },
  {
   "cell_type": "code",
   "execution_count": 18,
   "metadata": {},
   "outputs": [
    {
     "name": "stdout",
     "output_type": "stream",
     "text": [
      "0.764706 0.42623\n"
     ]
    }
   ],
   "source": [
    "print p,c"
   ]
  },
  {
   "cell_type": "code",
   "execution_count": null,
   "metadata": {},
   "outputs": [],
   "source": []
  }
 ],
 "metadata": {
  "kernelspec": {
   "display_name": "Python 2",
   "language": "python",
   "name": "python2"
  },
  "language_info": {
   "codemirror_mode": {
    "name": "ipython",
    "version": 2
   },
   "file_extension": ".py",
   "mimetype": "text/x-python",
   "name": "python",
   "nbconvert_exporter": "python",
   "pygments_lexer": "ipython2",
   "version": "2.7.15"
  }
 },
 "nbformat": 4,
 "nbformat_minor": 2
}
