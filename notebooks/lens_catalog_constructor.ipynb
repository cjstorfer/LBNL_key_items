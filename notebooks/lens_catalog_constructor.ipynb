{
 "cells": [
  {
   "cell_type": "code",
   "execution_count": 1,
   "metadata": {},
   "outputs": [
    {
     "name": "stdout",
     "output_type": "stream",
     "text": [
      "Populating the interactive namespace from numpy and matplotlib\n"
     ]
    }
   ],
   "source": [
    "import sys\n",
    "sys.path.append('..')\n",
    "%load_ext autoreload\n",
    "%autoreload 2\n",
    "%pylab inline\n",
    "from astropy.table import Table\n",
    "import pyfits as fits\n",
    "import numpy as np\n",
    "\n",
    "from os.path import expanduser\n",
    "home = expanduser(\"~\")\n",
    "import csv"
   ]
  },
  {
   "cell_type": "code",
   "execution_count": 2,
   "metadata": {},
   "outputs": [],
   "source": [
    "file_nm = '/Users/Chris/Desktop/pourrahmani.csv'\n"
   ]
  },
  {
   "cell_type": "code",
   "execution_count": 9,
   "metadata": {},
   "outputs": [],
   "source": [
    "num = 46\n",
    "name = np.chararray((num,),itemsize = 30)\n",
    "ra = np.zeros((num,), dtype = 'float32')\n",
    "dec = np.zeros((num,), dtype = 'float32')\n",
    "idx = np.zeros((num,), dtype = 'int')\n",
    "with open(file_nm, 'rb') as csvfile:\n",
    "    cat = csv.reader(csvfile, dialect='excel')\n",
    "    for i, row in enumerate(cat):\n",
    "        if (row[0]!= '') and (i!=0):\n",
    "            name[i-1] = row[0]\n",
    "            ra[i-1] = row[1]\n",
    "            dec[i-1] = row[2]\n",
    "            idx[i-1] = row[0]"
   ]
  },
  {
   "cell_type": "code",
   "execution_count": 10,
   "metadata": {},
   "outputs": [
    {
     "name": "stdout",
     "output_type": "stream",
     "text": [
      "(46,)\n",
      "(46,)\n",
      "(46,)\n",
      "[ 1  2  3  4  5  6  7  8  9 10 11 12 13 14 15 16 17 18 19 20 21 22 23 24 25\n",
      " 26 27 28 29 30 31 32 33 34 35 36 37 38 39 40 41 42 43 44 45 46]\n"
     ]
    }
   ],
   "source": [
    "# print ra.reshape(num,1)\n",
    "# print dec.reshape(num,1)\n",
    "print ra.shape\n",
    "print dec.shape\n",
    "print idx.shape\n",
    "print idx"
   ]
  },
  {
   "cell_type": "code",
   "execution_count": 11,
   "metadata": {},
   "outputs": [],
   "source": [
    "import urllib\n",
    "file_num = 0\n",
    "testfile = urllib.URLopener()\n",
    "for ra, dec, idx in zip(ra,dec,idx):\n",
    "#     url specifies ra/dec as well as size (101), pixscale (0.262 is native) and layer (decals-dr5)\n",
    "    url = 'http://legacysurvey.org/viewer/fits-cutout?ra={}&dec={}&size=101&layer=decals-dr7&pixscale=0.262&bands=grz'.format(ra, dec)\n",
    "    testfile.retrieve(url, '/Users/Chris/Desktop/pourrahmani_images/pourrahmani{:06d}.fits'.format(idx))\n",
    "    file_num+=1\n"
   ]
  },
  {
   "cell_type": "code",
   "execution_count": 84,
   "metadata": {},
   "outputs": [
    {
     "name": "stdout",
     "output_type": "stream",
     "text": [
      "[   0    1    2    3    4   22   24   26   27   31   32   34   35   50   53\n",
      "   57   58   60   62   67   68   69   70   71   73   75   76   77   79  103\n",
      "  105  111  114  115  117  118  119  120  121  122  128  130  147  149  151\n",
      "  156  157  158  162  168  169  188  193  219  221  222  223  224  230  239\n",
      "  266  299  301  303  310  325  330  332  333  353  354  359  378  379  385\n",
      "  392  394  409  410  412  417  421  422  454  455  456  457  458  459  469\n",
      "  470  471  473  485  487  497  504  507  510  527  529  537  541  543  545\n",
      "  546  549  562  576  581  591  598  601  618  654  662  674  677  678  679\n",
      "  681  706  710  711  712  714  726  727  732  733  746  748  752  755  757\n",
      "  761  762  768  771  772  785  786  792  799  800  801  834  835  851  852\n",
      "  853  857  858  859  861  866  869  878  886  892  893  894  895  897  899\n",
      "  900  907  909  910  911  912  921  923  925  936  942  968  972  995 1001\n",
      " 1001 1015 1032 1034 1080 1092 1096 1125 1161 1186 1188 1201 1235 1250 1324\n",
      " 1340 1354 1400 1418 1431]\n"
     ]
    }
   ],
   "source": [
    "print np.asarray(np.load('selected_train_images.npy'),dtype = int)"
   ]
  },
  {
   "cell_type": "code",
   "execution_count": null,
   "metadata": {},
   "outputs": [],
   "source": []
  },
  {
   "cell_type": "code",
   "execution_count": 85,
   "metadata": {},
   "outputs": [
    {
     "name": "stdout",
     "output_type": "stream",
     "text": [
      "['0A' '3A' '4A' '5A' '7A' '8A' '9A' '10A' '11A' '12A' '13A' '14A' '16A'\n",
      " '18A' '19A' '21A' '23A' '24A' '28A' '29A' '31A' '32A' '33A' '34A' '35A'\n",
      " '36A' '37A' '38A' '39A' '41A' '42A' '43A' '45A' '46A' '47A' '48A' '50A'\n",
      " '51A' '52A' '53A' '54A' '55A' '56A' '58A' '59A' '60A' '61A' '63A' '64A'\n",
      " '65A' '66A' '69A' '1B' '4B' '5B' '6B' '7B' '9B' '10B' '11B' '12B' '13B'\n",
      " '15B' '16B' '17B' '18B' '19B' '20B' '22B' '23B' '24B' '25B' '26B' '27B'\n",
      " '0MzLS' '1MzLS' '2MzLS' '3MzLS' '5MzLS' '7MzLS' '8MzLS' '2DECals_group'\n",
      " '3DECals_group' '4DECals_group' '5DECals_group' '6DECals_group'\n",
      " '7DECals_group' '8DECals_group' '9DECals_group' '10DECals_group'\n",
      " '11DECals_group' '13DECals_group' '15DECals_group' '17DECals_group'\n",
      " '18DECals_group' '19DECals_group' '20DECals_group' '21DECals_group'\n",
      " '22DECals_group' '25DECals_group' '27DECals_group' '28DECals_group'\n",
      " '29DECals_group' '30DECals_group' '32DECals_group' '33DECals_group'\n",
      " '34DECals_group' '35DECals_group' '36DECals_group' '37DECals_group'\n",
      " '38DECals_group' '0MzLS_group' '1MzLS_group' '4MzLS_group' '5MzLS_group'\n",
      " '7MzLS_group' '8MzLS_group' '10MzLS_group' '11MzLS_group' '12MzLS_group'\n",
      " '13MzLS_group' '14MzLS_group' '15MzLS_group' '0cluster' '1cluster'\n",
      " '4cluster' '5cluster' '6cluster']\n"
     ]
    }
   ],
   "source": [
    "lens_idx = np.load('lens_file_indicies.npy')\n",
    "print lens_idx"
   ]
  },
  {
   "cell_type": "code",
   "execution_count": 86,
   "metadata": {},
   "outputs": [],
   "source": [
    "for j in range(num):\n",
    "    lens_idx = np.concatenate((lens_idx, np.asarray(str(idx[j])+'DECals_HSC').reshape(1,)))"
   ]
  },
  {
   "cell_type": "code",
   "execution_count": 90,
   "metadata": {},
   "outputs": [
    {
     "name": "stdout",
     "output_type": "stream",
     "text": [
      "['0A' '3A' '4A' '5A' '7A' '8A' '9A' '10A' '11A' '12A' '13A' '14A' '16A'\n",
      " '18A' '19A' '21A' '23A' '24A' '28A' '29A' '31A' '32A' '33A' '34A' '35A'\n",
      " '36A' '37A' '38A' '39A' '41A' '42A' '43A' '45A' '46A' '47A' '48A' '50A'\n",
      " '51A' '52A' '53A' '54A' '55A' '56A' '58A' '59A' '60A' '61A' '63A' '64A'\n",
      " '65A' '66A' '69A' '1B' '4B' '5B' '6B' '7B' '9B' '10B' '11B' '12B' '13B'\n",
      " '15B' '16B' '17B' '18B' '19B' '20B' '22B' '23B' '24B' '25B' '26B' '27B'\n",
      " '0MzLS' '1MzLS' '2MzLS' '3MzLS' '5MzLS' '7MzLS' '8MzLS' '2DECals_group'\n",
      " '3DECals_group' '4DECals_group' '5DECals_group' '6DECals_group'\n",
      " '7DECals_group' '8DECals_group' '9DECals_group' '10DECals_group'\n",
      " '11DECals_group' '13DECals_group' '15DECals_group' '17DECals_group'\n",
      " '18DECals_group' '19DECals_group' '20DECals_group' '21DECals_group'\n",
      " '22DECals_group' '25DECals_group' '27DECals_group' '28DECals_group'\n",
      " '29DECals_group' '30DECals_group' '32DECals_group' '33DECals_group'\n",
      " '34DECals_group' '35DECals_group' '36DECals_group' '37DECals_group'\n",
      " '38DECals_group' '0MzLS_group' '1MzLS_group' '4MzLS_group' '5MzLS_group'\n",
      " '7MzLS_group' '8MzLS_group' '10MzLS_group' '11MzLS_group' '12MzLS_group'\n",
      " '13MzLS_group' '14MzLS_group' '15MzLS_group' '0cluster' '1cluster'\n",
      " '4cluster' '5cluster' '6cluster' '0DECals_HSC' '1DECals_HSC' '2DECals_HSC'\n",
      " '3DECals_HSC' '4DECals_HSC' '5DECals_HSC' '6DECals_HSC' '8DECals_HSC'\n",
      " '10DECals_HSC' '12DECals_HSC' '13DECals_HSC' '15DECals_HSC' '17DECals_HSC'\n",
      " '19DECals_HSC' '20DECals_HSC' '21DECals_HSC' '22DECals_HSC' '23DECals_HSC'\n",
      " '24DECals_HSC' '25DECals_HSC' '27DECals_HSC' '28DECals_HSC' '30DECals_HSC'\n",
      " '0MzLS_HSC']\n"
     ]
    }
   ],
   "source": [
    "print lens_idx"
   ]
  },
  {
   "cell_type": "code",
   "execution_count": 91,
   "metadata": {},
   "outputs": [],
   "source": [
    "np.save('lens_file_indicies.npy',lens_idx)"
   ]
  },
  {
   "cell_type": "code",
   "execution_count": 92,
   "metadata": {},
   "outputs": [
    {
     "name": "stdout",
     "output_type": "stream",
     "text": [
      "(152,)\n"
     ]
    }
   ],
   "source": [
    "print lens_idx.shape"
   ]
  },
  {
   "cell_type": "code",
   "execution_count": null,
   "metadata": {},
   "outputs": [],
   "source": []
  }
 ],
 "metadata": {
  "kernelspec": {
   "display_name": "Python 2",
   "language": "python",
   "name": "python2"
  },
  "language_info": {
   "codemirror_mode": {
    "name": "ipython",
    "version": 2
   },
   "file_extension": ".py",
   "mimetype": "text/x-python",
   "name": "python",
   "nbconvert_exporter": "python",
   "pygments_lexer": "ipython2",
   "version": "2.7.15"
  }
 },
 "nbformat": 4,
 "nbformat_minor": 2
}
