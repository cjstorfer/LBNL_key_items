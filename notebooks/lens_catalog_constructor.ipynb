{
 "cells": [
  {
   "cell_type": "code",
   "execution_count": 73,
   "metadata": {},
   "outputs": [
    {
     "name": "stdout",
     "output_type": "stream",
     "text": [
      "The autoreload extension is already loaded. To reload it, use:\n",
      "  %reload_ext autoreload\n",
      "Populating the interactive namespace from numpy and matplotlib\n"
     ]
    }
   ],
   "source": [
    "import sys\n",
    "sys.path.append('..')\n",
    "%load_ext autoreload\n",
    "%autoreload 2\n",
    "%pylab inline\n",
    "from astropy.table import Table\n",
    "import pyfits as fits\n",
    "import numpy as np\n",
    "\n",
    "from os.path import expanduser\n",
    "home = expanduser(\"~\")\n",
    "import csv"
   ]
  },
  {
   "cell_type": "code",
   "execution_count": 114,
   "metadata": {},
   "outputs": [],
   "source": [
    "file_nm = '/Users/Chris/Desktop/DECals_set/Train/csv_files/MzLS_lenses_train.csv'\n"
   ]
  },
  {
   "cell_type": "code",
   "execution_count": 115,
   "metadata": {},
   "outputs": [],
   "source": [
    "num = 7\n",
    "name = np.chararray((num,),itemsize = 30)\n",
    "ra = np.zeros((num,), dtype = 'float32')\n",
    "dec = np.zeros((num,), dtype = 'float32')\n",
    "idx = np.zeros((num,), dtype = 'int')\n",
    "with open(file_nm, 'rb') as csvfile:\n",
    "    cat = csv.reader(csvfile, dialect='excel')\n",
    "    for i, row in enumerate(cat):\n",
    "        if (row[0]!= '') and (i!=0):\n",
    "            name[i-1] = row[0]\n",
    "            ra[i-1] = row[1]\n",
    "            dec[i-1] = row[2]\n",
    "            idx[i-1] = row[3]"
   ]
  },
  {
   "cell_type": "code",
   "execution_count": 116,
   "metadata": {},
   "outputs": [
    {
     "name": "stdout",
     "output_type": "stream",
     "text": [
      "[[ 167.66844177]\n",
      " [ 139.74671936]\n",
      " [ 118.84802246]\n",
      " [ 165.77975464]\n",
      " [ 211.70970154]\n",
      " [ 127.70722198]\n",
      " [ 211.55938721]]\n",
      "(7,)\n",
      "[0 1 2 3 5 7 8]\n"
     ]
    }
   ],
   "source": [
    "print ra.reshape(num,1)\n",
    "print ra.shape\n",
    "print idx"
   ]
  },
  {
   "cell_type": "code",
   "execution_count": 117,
   "metadata": {
    "scrolled": true
   },
   "outputs": [],
   "source": [
    "import urllib\n",
    "file_num = 0\n",
    "testfile = urllib.URLopener()\n",
    "for ra, dec, idx in zip(ra,dec,idx):\n",
    "#     url specifies ra/dec as well as size (101), pixscale (0.262 is native) and layer (decals-dr5)\n",
    "    url = 'http://legacysurvey.org/viewer/fits-cutout?ra={}&dec={}&size=101&layer=mzls+bass-dr6&pixscale=0.262&bands=grz'.format(ra, dec)\n",
    "    testfile.retrieve(url, '/Users/Chris/Desktop/DECals_set/Train/fits_images/lens_cutout_MzLS_{:06d}.fits'.format(idx))\n",
    "    file_num+=1\n"
   ]
  },
  {
   "cell_type": "markdown",
   "metadata": {},
   "source": [
    "plt.figure(figsize = (20,5))\n",
    "plt.subplot(131)\n",
    "plt.imshow(test_im[0].T*20)\n",
    "plt.subplot(132)\n",
    "plt.imshow(test_im[1].T*20)\n",
    "plt.subplot(133)\n",
    "plt.imshow(test_im[2].T*20)\n",
    "plt.imshow"
   ]
  },
  {
   "cell_type": "code",
   "execution_count": 82,
   "metadata": {},
   "outputs": [
    {
     "name": "stdout",
     "output_type": "stream",
     "text": [
      "Done !\n"
     ]
    }
   ],
   "source": [
    "ims = np.zeros((61, 3, 101, 101))\n",
    "counter = 0\n",
    "\n",
    "# Loads the images\n",
    "for i, obj in enumerate(ra):\n",
    "    ims[i] = fits.getdata('/Users/Chris/Desktop/Training_Set/Lenses/cutout_{}.fits'.format(i))\n",
    "\n",
    "# Concatenate images to catalog\n",
    "x = ims\n",
    "\n",
    "print \"Done !\""
   ]
  },
  {
   "cell_type": "code",
   "execution_count": 106,
   "metadata": {},
   "outputs": [
    {
     "name": "stdout",
     "output_type": "stream",
     "text": [
      "(61, 3, 101, 101)\n"
     ]
    }
   ],
   "source": [
    "print x.shape"
   ]
  },
  {
   "cell_type": "code",
   "execution_count": null,
   "metadata": {},
   "outputs": [],
   "source": []
  },
  {
   "cell_type": "code",
   "execution_count": null,
   "metadata": {},
   "outputs": [],
   "source": []
  },
  {
   "cell_type": "code",
   "execution_count": null,
   "metadata": {},
   "outputs": [],
   "source": []
  },
  {
   "cell_type": "code",
   "execution_count": null,
   "metadata": {},
   "outputs": [],
   "source": []
  },
  {
   "cell_type": "code",
   "execution_count": null,
   "metadata": {},
   "outputs": [],
   "source": []
  },
  {
   "cell_type": "code",
   "execution_count": 107,
   "metadata": {},
   "outputs": [],
   "source": [
    "# import h5py\n",
    "\n",
    "# with h5py.File('catalog_lenses.hdf5', 'w') as hf:\n",
    "#     hf.create_dataset('image data',  data = x)"
   ]
  },
  {
   "cell_type": "code",
   "execution_count": 108,
   "metadata": {},
   "outputs": [],
   "source": [
    "# d = Table.read('/Users/Chris/Desktop/Training_Set/Catalogs/catalog_lenses.hdf5')"
   ]
  },
  {
   "cell_type": "code",
   "execution_count": null,
   "metadata": {},
   "outputs": [],
   "source": []
  }
 ],
 "metadata": {
  "kernelspec": {
   "display_name": "Python 2",
   "language": "python",
   "name": "python2"
  },
  "language_info": {
   "codemirror_mode": {
    "name": "ipython",
    "version": 2
   },
   "file_extension": ".py",
   "mimetype": "text/x-python",
   "name": "python",
   "nbconvert_exporter": "python",
   "pygments_lexer": "ipython2",
   "version": "2.7.15"
  }
 },
 "nbformat": 4,
 "nbformat_minor": 2
}
