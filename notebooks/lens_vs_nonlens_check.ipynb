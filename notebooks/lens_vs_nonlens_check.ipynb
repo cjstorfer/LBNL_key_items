{
 "cells": [
  {
   "cell_type": "code",
   "execution_count": 1,
   "metadata": {},
   "outputs": [
    {
     "name": "stdout",
     "output_type": "stream",
     "text": [
      "Populating the interactive namespace from numpy and matplotlib\n"
     ]
    }
   ],
   "source": [
    "import sys\n",
    "sys.path.append('..')\n",
    "%load_ext autoreload\n",
    "%autoreload 2\n",
    "%pylab inline"
   ]
  },
  {
   "cell_type": "code",
   "execution_count": 2,
   "metadata": {},
   "outputs": [],
   "source": [
    "from astropy.table import Table\n",
    "import pyfits as fits\n",
    "import numpy as np\n",
    "\n",
    "from os.path import expanduser\n",
    "home = expanduser(\"~\")\n",
    "imgs = 120\n",
    "\n",
    "\n",
    "# # Path to the downloaded files\n",
    "# # download_path=home+'/Desktop/' # To be adjusted on your machine\n",
    "# download_path='//Volumes/CJSTORFER/' # To be adjusted on your machine\n",
    "\n",
    "\n",
    "\n",
    "# # Path to export the data\n",
    "# export_path='//Volumes/CJSTORFER/'   # To be adjusted on your machine\n",
    "\n",
    "# # Loads the catalog\n",
    "# cat = Table.read(download_path+'GroundBasedTraining/classifications.csv')\n",
    "# cat= cat[imgs:imgs*2]\n",
    "# len(cat)"
   ]
  },
  {
   "cell_type": "code",
   "execution_count": 3,
   "metadata": {
    "scrolled": true
   },
   "outputs": [],
   "source": [
    "# ims = np.zeros((imgs, 4, 101, 101))\n",
    "# counter = 0\n",
    "# # print ims.shape\n",
    "# # Loads the images\n",
    "# for i, id in enumerate(cat['ID']):\n",
    "#     if (i%1000 == 0) and (i!=0):\n",
    "#         counter +=1\n",
    "#         print str(counter)+\"000 done.\"\n",
    "#     for j, b in enumerate(['R', 'I', 'G', 'U']):\n",
    "#         ims[i, j] = fits.getdata(download_path+'GroundBasedTraining/Public/Band'+str(j+1)+'/imageSDSS_'+b+'-'+str(id)+'.fits')\n",
    "# # %timeit range(1000)\n",
    "# # Concatenate images to catalog\n",
    "# cat['image'] = ims\n",
    "# # print cat\n",
    "# # Export catalog as HDF5\n",
    "# cat.write(export_path+'catalogs_'+str(imgs)+'_1.hdf5', path='/ground', append=True)\n",
    "\n",
    "# print \"Done !\""
   ]
  },
  {
   "cell_type": "code",
   "execution_count": 4,
   "metadata": {},
   "outputs": [],
   "source": [
    "from astropy.table import Table\n",
    "\n",
    "# Loads the table created in the previous section\n",
    "d = Table.read('/Users/Chris/Desktop/catalogs_'+str(imgs)+'_RGB.hdf5', path='/ground')  # Path to be adjusted on your machine\n",
    "# print d"
   ]
  },
  {
   "cell_type": "code",
   "execution_count": 6,
   "metadata": {},
   "outputs": [
    {
     "name": "stdout",
     "output_type": "stream",
     "text": [
      "(120, 3, 101, 101)\n",
      "(120, 1)\n"
     ]
    }
   ],
   "source": [
    "# We use the full set for training,\n",
    "# as we can test on the independent challenge testing set\n",
    "x = array(d['image']).reshape((-1,3,101,101))\n",
    "print x.shape\n",
    "\n",
    "y = array(d['is_lens']).reshape((-1,1))\n",
    "print y.shape"
   ]
  },
  {
   "cell_type": "code",
   "execution_count": 7,
   "metadata": {},
   "outputs": [
    {
     "name": "stderr",
     "output_type": "stream",
     "text": [
      "boolean index did not match indexed array along dimension 1; dimension is 3 but corresponding boolean dimension is 1\n"
     ]
    },
    {
     "data": {
      "text/plain": [
       "54"
      ]
     },
     "execution_count": 7,
     "metadata": {},
     "output_type": "execute_result"
    }
   ],
   "source": [
    "idx_1 = y == 1\n",
    "x_lens = x[idx_1]\n",
    "x_lens.shape[0]"
   ]
  },
  {
   "cell_type": "code",
   "execution_count": 8,
   "metadata": {},
   "outputs": [
    {
     "name": "stderr",
     "output_type": "stream",
     "text": [
      "boolean index did not match indexed array along dimension 1; dimension is 3 but corresponding boolean dimension is 1\n"
     ]
    },
    {
     "data": {
      "text/plain": [
       "66"
      ]
     },
     "execution_count": 8,
     "metadata": {},
     "output_type": "execute_result"
    }
   ],
   "source": [
    "idx_0 = y == 0\n",
    "x_nonlens = x[idx_0]\n",
    "x_nonlens.shape[0]"
   ]
  },
  {
   "cell_type": "code",
   "execution_count": null,
   "metadata": {},
   "outputs": [],
   "source": []
  }
 ],
 "metadata": {
  "kernelspec": {
   "display_name": "Python 2",
   "language": "python",
   "name": "python2"
  },
  "language_info": {
   "codemirror_mode": {
    "name": "ipython",
    "version": 2
   },
   "file_extension": ".py",
   "mimetype": "text/x-python",
   "name": "python",
   "nbconvert_exporter": "python",
   "pygments_lexer": "ipython2",
   "version": "2.7.15"
  }
 },
 "nbformat": 4,
 "nbformat_minor": 2
}
